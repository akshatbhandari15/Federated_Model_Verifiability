{
 "cells": [
  {
   "cell_type": "code",
   "execution_count": 17,
   "id": "8a040da9",
   "metadata": {},
   "outputs": [],
   "source": [
    "from collections import Counter\n",
    "import copy\n",
    "import random\n",
    "import seaborn as sns\n",
    "import matplotlib.pyplot as plt\n",
    "import torch\n",
    "import torch.nn.functional as F\n",
    "from torch.utils.data import DataLoader, Subset\n",
    "import numpy as np\n",
    "import pandas as pd\n",
    "from tqdm import tqdm\n",
    "import utils\n",
    "import sampling"
   ]
  },
  {
   "cell_type": "code",
   "execution_count": 42,
   "id": "b30d4d5c",
   "metadata": {},
   "outputs": [],
   "source": [
    "class FederatedModel:\n",
    "    def __init__(\n",
    "        self,\n",
    "        device,\n",
    "        num_devices=110,\n",
    "        num_trusted_devices=None,\n",
    "        use_trusted=False,\n",
    "        num_malicious_devices=0,\n",
    "        network='lenet',\n",
    "        global_rounds=3,\n",
    "        local_epochs=5,\n",
    "        batch_size=64,\n",
    "        learning_rate=0.001,\n",
    "        optim='adam',\n",
    "        dataset='mnist',\n",
    "        split_type='iid',\n",
    "        malicious_device_args={},\n",
    "    ):\n",
    "        self.network = network\n",
    "        self.dataset = dataset\n",
    "        self.num_devices = num_devices\n",
    "        self.global_rounds = global_rounds\n",
    "        self.batch_size = batch_size\n",
    "        self.local_epochs = local_epochs\n",
    "        self.learning_rate = learning_rate\n",
    "        self.optim = optim\n",
    "        self.device = device\n",
    "        self.num_trusted_devices = num_trusted_devices\n",
    "        self.use_trusted = use_trusted\n",
    "        self.num_malicious_devices = num_malicious_devices\n",
    "        self.malicious_device_args = malicious_device_args\n",
    "\n",
    "        self.global_network = utils.get_network(network, dataset).to(device)\n",
    "        self.train_dataset, self.test_dataset = utils.get_dataset(dataset)\n",
    "\n",
    "\n",
    "        self.train_dataset_idxs = sampling.split_dataset(\n",
    "            self.train_dataset, num_devices, split_type\n",
    "        )\n",
    "\n",
    "        while any(len(x) == 0 for x in self.train_dataset_idxs):\n",
    "            self.train_dataset_idxs = sampling.split_dataset(\n",
    "                self.train_dataset, num_devices, split_type\n",
    "            )\n",
    "\n",
    "        np.random.shuffle(self.train_dataset_idxs) # Needed?\n",
    "\n",
    "        self.train_dataset_classes = [Counter([self.train_dataset[idx][1] for idx in idxs]) for idxs in self.train_dataset_idxs]\n",
    "        print(\"Len of train_dataset_classes: \",len(self.train_dataset_classes))\n",
    "        print(\"train_dataset_classes: \",self.train_dataset_classes[0])\n",
    "        \n",
    "        if self.num_trusted_devices is None and self.use_trusted:\n",
    "            self.num_trusted_devices = 1\n",
    "            self.trusted_devices = {0}\n",
    "            self.trusted_devices_classes = self.train_dataset_classes[0]\n",
    "            \n",
    "            print(\"Keys of trusted_devices_classes:\",self.trusted_devices_classes.keys())\n",
    "\n",
    "            while len(self.trusted_devices_classes.keys()) < 10: # TODO: Don't hardcode classes\n",
    "                x = random.choice(list(set(range(len(self.train_dataset_idxs))) - self.trusted_devices))\n",
    "                print(\"Length of trusted device: \",len(trusted_devices))\n",
    "                if len(set(self.train_dataset_classes[x].keys()) - set(self.trusted_devices_classes.keys())) > 0:\n",
    "                    self.trusted_devices |=  {x}\n",
    "                    self.trusted_devices_classes += self.train_dataset_classes[x]\n",
    "                    self.num_trusted_devices += 1\n",
    "        \n",
    "        self.train_dataset_idxs = (\n",
    "            [x for i, x in enumerate(self.train_dataset_idxs) if i in self.trusted_devices] +\n",
    "            [x for i, x in enumerate(self.train_dataset_idxs) if i not in self.trusted_devices]\n",
    "        )\n",
    "\n",
    "        print(\"==============To find the malicious devices=============\")\n",
    "        print(\"Trusted devices: \", (self.num_trusted_devices))\n",
    "        print(\"Malicious devices: \", self.num_malicious_devices)\n",
    "        print(\"Range: \", range(self.num_trusted_devices, self.num_malicious_devices))\n",
    "        \n",
    "        self.trusted_devices = list(range(self.num_trusted_devices))\n",
    "        self.malicious_devices = list(range(self.num_trusted_devices, self.num_malicious_devices))\n",
    "        \n",
    "        print(\"malicious_devices:\",self.malicious_devices)\n",
    "\n",
    "        if num_malicious_devices > 0 and malicious_device_args.get('wrong_dataset') == True:\n",
    "            self.wrong_train_dataset, _ = utils.get_dataset('cifar10' if dataset == 'mnist' else 'mnist')\n",
    "\n",
    "    def get_loader(self, dataset):\n",
    "        return DataLoader(dataset=dataset, batch_size=self.batch_size, shuffle=True)\n",
    "\n",
    "    def get_local_dataset(self, d, is_malicious):\n",
    "        if is_malicious:\n",
    "            if self.malicious_device_args.get('flip') is not None:\n",
    "                n_flip = self.malicious_device_args.get('flip')\n",
    "                dataset = torch.utils.data.Subset(self.train_dataset, self.train_dataset_idxs[d])\n",
    "                return utils.FlippedDataset(dataset, 10, n_flip) # TODO: Change 10\n",
    "            elif self.malicious_device_args.get('wrong_dataset') == True:\n",
    "                device_dataset_size = int(len(self.train_dataset) / self.num_devices)\n",
    "                dataset_idxs = list(range(len(self.wrong_train_dataset)))\n",
    "                random.shuffle(dataset_idxs)\n",
    "                return torch.utils.data.Subset(\n",
    "                    self.wrong_train_dataset, dataset_idxs[:device_dataset_size]\n",
    "                )\n",
    "\n",
    "        return torch.utils.data.Subset(self.train_dataset, self.train_dataset_idxs[d])\n",
    "\n",
    "    def train(self, calculate_global_cosine=False, calculate_local_grad_cosine=False):\n",
    "        stats = []\n",
    "        for r in range(self.global_rounds):\n",
    "            global_weights, _, round_stats = self.train_one_round(r, calculate_global_cosine, calculate_local_grad_cosine)\n",
    "\n",
    "            self.global_network.load_state_dict(global_weights)\n",
    "            round_stats['test_accuracy'] = utils.check_accuracy(\n",
    "                self.get_loader(self.test_dataset),\n",
    "                self.global_network,\n",
    "                self.device\n",
    "            )\n",
    "            stats.append(round_stats)\n",
    "\n",
    "        return pd.DataFrame(stats)\n",
    "    \n",
    "    def train_one_round(self, r, calculate_global_cosine=False, calculate_local_grad_cosine=False):\n",
    "        malicious_devices = self.malicious_devices\n",
    "\n",
    "        local_weights = []\n",
    "        stats = {}\n",
    "        \n",
    "        print(\"Global_cosine value: \", str(calculate_global_cosine))\n",
    "        print(\"Local_grad_cosine: \",str(calculate_local_grad_cosine))\n",
    "\n",
    "        for d in tqdm(range(self.num_devices)):\n",
    "            local_weights.append(self.train_device(d, d in malicious_devices, stats))\n",
    "            if calculate_global_cosine:\n",
    "                local_network = utils.get_network(self.network, self.dataset).to(self.device)\n",
    "                local_network.load_state_dict(local_weights[-1])\n",
    "                stats[f'{d}_cosine'] = utils.model_cosine(self.global_network, local_network)\n",
    "\n",
    "        \n",
    "        if calculate_local_grad_cosine:\n",
    "            for i in range(self.num_trusted_devices):\n",
    "                for j in range(self.num_devices):\n",
    "                    x = utils.get_network(self.network, self.dataset).to(self.device)\n",
    "                    y = utils.get_network(self.network, self.dataset).to(self.device)\n",
    "                    x.load_state_dict(local_weights[i])\n",
    "                    y.load_state_dict(local_weights[j])\n",
    "                    stats[f\"{i}_{j}_cosine\"] = utils.model_grad_cosine(\n",
    "                        self.global_network, x, y\n",
    "                    )\n",
    "        \n",
    "        global_weights = utils.model_average(local_weights)\n",
    "\n",
    "        return global_weights, local_weights, stats\n",
    "\n",
    "    def train_device(self, d, is_malicious, stats):\n",
    "        network = copy.deepcopy(self.global_network).to(self.device)\n",
    "\n",
    "        optim = self.get_optim(network, is_malicious)\n",
    "        dataset = self.get_local_dataset(d, is_malicious)\n",
    "        total_loss = 0\n",
    "\n",
    "        for _, (data, targets) in enumerate(self.get_loader(dataset)):\n",
    "            data = data.to(device=self.device)\n",
    "            targets = targets.to(device=self.device)\n",
    "\n",
    "            loss = F.cross_entropy(network(data), targets)\n",
    "            total_loss += loss.item()\n",
    "\n",
    "            optim.zero_grad()\n",
    "            loss.backward()\n",
    "            optim.step()\n",
    "\n",
    "        return network.state_dict()\n",
    "\n",
    "    def get_optim(self, model, is_malicious):\n",
    "        lr = self.learning_rate\n",
    "        if is_malicious and self.malicious_device_args.get('lr') is not None:\n",
    "            lr = self.malicious_device_args['lr']\n",
    "\n",
    "        if self.optim == \"sgd\":\n",
    "            return torch.optim.SGD(model.parameters(), lr=lr)\n",
    "        elif self.optim == \"adam\":\n",
    "            return torch.optim.Adam(model.parameters(), lr=lr)\n",
    "        else:\n",
    "            raise NotImplementedError(\"Invalid Optimizer\")"
   ]
  },
  {
   "cell_type": "code",
   "execution_count": 43,
   "id": "3474682d",
   "metadata": {},
   "outputs": [],
   "source": [
    "def phase0(\n",
    "    device,\n",
    "    split_type,\n",
    "    malicious_type = None,\n",
    "    num_malicious_devices=0,\n",
    "    fname='outputs/phase0',\n",
    "    local_epochs=5, \n",
    "    global_rounds=10):\n",
    "\n",
    "    plt.clf()\n",
    "    f = None\n",
    "    if malicious_type is None:\n",
    "        f = f'{fname}_{split_type}_{num_malicious_devices}'\n",
    "    else:\n",
    "        mt = list(malicious_type.keys())[0]\n",
    "        f = f'{fname}_{split_type}_{mt}_{malicious_type[mt]}_{num_malicious_devices}'\n",
    "\n",
    "    model = FederatedModel(\n",
    "        device=device, \n",
    "        split_type=split_type,\n",
    "        malicious_device_args={} if malicious_type is None else malicious_type,\n",
    "        num_malicious_devices=num_malicious_devices,\n",
    "        local_epochs=local_epochs,\n",
    "        global_rounds=global_rounds\n",
    "        )\n",
    "\n",
    "    stats = model.train().astype('float')\n",
    "    stats.to_excel(f'{f}.xlsx')\n",
    "\n",
    "    print(f)\n",
    "    print(stats)\n"
   ]
  },
  {
   "cell_type": "code",
   "execution_count": 44,
   "id": "b9b7671d",
   "metadata": {},
   "outputs": [],
   "source": [
    "def phase1(\n",
    "    device,\n",
    "    split_type,\n",
    "    malicious_type = None,\n",
    "    num_malicious_devices=0,\n",
    "    fname='outputs/phase1',\n",
    "    local_epochs=5, \n",
    "    global_rounds=10):\n",
    "\n",
    "    plt.clf()\n",
    "    f = None\n",
    "    if malicious_type is None:\n",
    "        f = f'{fname}_{split_type}_{num_malicious_devices}'\n",
    "    else:\n",
    "        mt = list(malicious_type.keys())[0]\n",
    "        f = f'{fname}_{split_type}_{mt}_{malicious_type[mt]}_{num_malicious_devices}'\n",
    "\n",
    "    model = FederatedModel(\n",
    "        device=device, \n",
    "        split_type=split_type,\n",
    "        malicious_device_args={} if malicious_type is None else malicious_type,\n",
    "        num_malicious_devices=num_malicious_devices,\n",
    "        local_epochs=local_epochs,\n",
    "        global_rounds=global_rounds\n",
    "        )\n",
    "\n",
    "    stats = model.train(calculate_global_cosine=True).astype('float')\n",
    "    stats.to_excel(f'{f}.xlsx')\n",
    "\n",
    "    plt.clf()\n",
    "    ss = stats[[f'{i}_cosine' for i in range(110)]].astype(float).to_numpy()\n",
    "    ax = sns.heatmap(ss)\n",
    "    ax.figure.savefig(f'{f}_heatmap.png')\n",
    "\n",
    "    print(f)\n",
    "    print(stats)"
   ]
  },
  {
   "cell_type": "code",
   "execution_count": 45,
   "id": "04bc5d4a",
   "metadata": {},
   "outputs": [],
   "source": [
    "def phase2(\n",
    "    device,\n",
    "    split_type,\n",
    "    malicious_type = None,\n",
    "    num_malicious_devices=0,\n",
    "    fname='outputs/phase2',\n",
    "    local_epochs=5, \n",
    "    global_rounds=10):\n",
    "\n",
    "    plt.clf()\n",
    "    f = None\n",
    "    if malicious_type is None:\n",
    "        f = f'{fname}_{split_type}_{num_malicious_devices}'\n",
    "    else:\n",
    "        mt = list(malicious_type.keys())[0]\n",
    "        f = f'{fname}_{split_type}_{mt}_{malicious_type[mt]}_{num_malicious_devices}'\n",
    "\n",
    "    model = FederatedModel(\n",
    "        device=device, \n",
    "        split_type=split_type,\n",
    "        malicious_device_args={} if malicious_type is None else malicious_type,\n",
    "        num_malicious_devices=num_malicious_devices,\n",
    "        num_trusted_devices=1,\n",
    "        use_trusted=True,\n",
    "        local_epochs=local_epochs,\n",
    "        global_rounds=global_rounds\n",
    "    )\n",
    "\n",
    "    stats = model.train(calculate_local_grad_cosine=True).astype('float')\n",
    "    stats.to_excel(f'{f}.xlsx')\n",
    "\n",
    "    plt.clf()\n",
    "    ss = stats[[f'0_{j}_cosine' for j in range(1, 110)]].astype(float).to_numpy()\n",
    "    ax = sns.heatmap(ss)\n",
    "    ax.figure.savefig(f'{f}_heatmap.png')\n",
    "\n",
    "    print(f)\n",
    "    print(stats)"
   ]
  },
  {
   "cell_type": "code",
   "execution_count": 46,
   "id": "101eda3e",
   "metadata": {},
   "outputs": [],
   "source": [
    "def phase3(\n",
    "    device,\n",
    "    split_type,\n",
    "    malicious_type = None,\n",
    "    num_malicious_devices=0,\n",
    "    fname='outputs/phase3',\n",
    "    local_epochs=5, \n",
    "    global_rounds=3):\n",
    "\n",
    "    plt.clf()\n",
    "    f = None\n",
    "    if malicious_type is None:\n",
    "        f = f'{fname}_{split_type}_{num_malicious_devices}'\n",
    "    else:\n",
    "        mt = list(malicious_type.keys())[0]\n",
    "        f = f'{fname}_{split_type}_{mt}_{malicious_type[mt]}_{num_malicious_devices}'\n",
    "\n",
    "    model = FederatedModel(\n",
    "        device=device, \n",
    "        split_type=split_type,\n",
    "        malicious_device_args={} if malicious_type is None else malicious_type,\n",
    "        num_malicious_devices=num_malicious_devices,\n",
    "        num_trusted_devices=None, # Automatically assign trusted devices\n",
    "        use_trusted=True,\n",
    "        local_epochs=local_epochs,\n",
    "        global_rounds=global_rounds\n",
    "    )\n",
    "\n",
    "    stats = model.train(calculate_local_grad_cosine=True).astype('float')\n",
    "    stats.to_excel(f'{f}.xlsx')\n",
    "\n",
    "    for i in range(model.num_trusted_devices):\n",
    "        plt.clf()\n",
    "        ss = stats[[f'{i}_{j}_cosine' for j in range(model.num_devices)]].astype(float).to_numpy()\n",
    "        ax = sns.heatmap(ss)\n",
    "        ax.figure.savefig(f'{f}_{i}_heatmap.png')\n",
    "\n",
    "    print(f)\n",
    "    print(stats)\n"
   ]
  },
  {
   "cell_type": "code",
   "execution_count": 47,
   "id": "a3315690",
   "metadata": {},
   "outputs": [],
   "source": [
    "def experiment(device, niids, malicious_types, phase, global_rounds=10, local_epochs=5):\n",
    "    print(\"Phase number:\", str(phase))\n",
    "    #phase(device=device, split_type='iid')\n",
    "\n",
    "#     for niid in niids:\n",
    "#         print(\"niid is:\", niid)\n",
    "#         phase(\n",
    "#             device=device,\n",
    "#             split_type=f'niid-{niid}',\n",
    "#             local_epochs=local_epochs,\n",
    "#             global_rounds=global_rounds)\n",
    "\n",
    "    for mt in malicious_types:\n",
    "        print(\"mt is:\", mt)\n",
    "        phase(\n",
    "            device=device, \n",
    "            split_type='iid', \n",
    "            malicious_type=mt,\n",
    "            num_malicious_devices=30, \n",
    "            local_epochs = local_epochs,\n",
    "            global_rounds=global_rounds)\n",
    "\n",
    "#         for niid in niids:\n",
    "#             phase(\n",
    "#                 device=device, \n",
    "#                 split_type=f'niid-{niid}', \n",
    "#                 malicious_type=mt,\n",
    "#                 num_malicious_devices=30, \n",
    "#                 local_epochs=local_epochs,\n",
    "#                 global_rounds=global_rounds)"
   ]
  },
  {
   "cell_type": "code",
   "execution_count": 48,
   "id": "e5703574",
   "metadata": {},
   "outputs": [
    {
     "name": "stdout",
     "output_type": "stream",
     "text": [
      "Phase number: <function phase3 at 0x000001EEDB95F1F0>\n",
      "mt is: {'flip': 5}\n",
      "Len of train_dataset_classes:  111\n",
      "train_dataset_classes:  Counter({7: 67, 8: 58, 5: 55, 4: 55, 6: 54, 3: 54, 1: 54, 0: 50, 2: 50, 9: 48})\n",
      "Keys of trusted_devices_classes: dict_keys([6, 9, 0, 5, 3, 7, 8, 2, 4, 1])\n",
      "==============To find the malicious devices=============\n",
      "Trusted devices:  1\n",
      "Malicious devices:  30\n",
      "Range:  range(1, 30)\n",
      "malicious_devices: [1, 2, 3, 4, 5, 6, 7, 8, 9, 10, 11, 12, 13, 14, 15, 16, 17, 18, 19, 20, 21, 22, 23, 24, 25, 26, 27, 28, 29]\n",
      "Global_cosine value:  False\n",
      "Local_grad_cosine:  True\n"
     ]
    },
    {
     "name": "stderr",
     "output_type": "stream",
     "text": [
      "100%|████████████████████████████████████████████████████████████████████████████████| 110/110 [00:37<00:00,  2.97it/s]\n"
     ]
    },
    {
     "name": "stdout",
     "output_type": "stream",
     "text": [
      "Global_cosine value:  False\n",
      "Local_grad_cosine:  True\n"
     ]
    },
    {
     "name": "stderr",
     "output_type": "stream",
     "text": [
      "100%|████████████████████████████████████████████████████████████████████████████████| 110/110 [00:36<00:00,  2.98it/s]\n"
     ]
    },
    {
     "name": "stdout",
     "output_type": "stream",
     "text": [
      "Global_cosine value:  False\n",
      "Local_grad_cosine:  True\n"
     ]
    },
    {
     "name": "stderr",
     "output_type": "stream",
     "text": [
      "100%|████████████████████████████████████████████████████████████████████████████████| 110/110 [00:36<00:00,  2.98it/s]\n"
     ]
    },
    {
     "name": "stdout",
     "output_type": "stream",
     "text": [
      "Global_cosine value:  False\n",
      "Local_grad_cosine:  True\n"
     ]
    },
    {
     "name": "stderr",
     "output_type": "stream",
     "text": [
      "100%|████████████████████████████████████████████████████████████████████████████████| 110/110 [00:40<00:00,  2.70it/s]\n"
     ]
    },
    {
     "name": "stdout",
     "output_type": "stream",
     "text": [
      "Global_cosine value:  False\n",
      "Local_grad_cosine:  True\n"
     ]
    },
    {
     "name": "stderr",
     "output_type": "stream",
     "text": [
      "100%|████████████████████████████████████████████████████████████████████████████████| 110/110 [00:42<00:00,  2.59it/s]\n"
     ]
    },
    {
     "name": "stdout",
     "output_type": "stream",
     "text": [
      "Global_cosine value:  False\n",
      "Local_grad_cosine:  True\n"
     ]
    },
    {
     "name": "stderr",
     "output_type": "stream",
     "text": [
      "100%|████████████████████████████████████████████████████████████████████████████████| 110/110 [00:45<00:00,  2.43it/s]\n"
     ]
    },
    {
     "name": "stdout",
     "output_type": "stream",
     "text": [
      "Global_cosine value:  False\n",
      "Local_grad_cosine:  True\n"
     ]
    },
    {
     "name": "stderr",
     "output_type": "stream",
     "text": [
      "100%|████████████████████████████████████████████████████████████████████████████████| 110/110 [00:44<00:00,  2.47it/s]\n"
     ]
    },
    {
     "name": "stdout",
     "output_type": "stream",
     "text": [
      "Global_cosine value:  False\n",
      "Local_grad_cosine:  True\n"
     ]
    },
    {
     "name": "stderr",
     "output_type": "stream",
     "text": [
      "100%|████████████████████████████████████████████████████████████████████████████████| 110/110 [00:46<00:00,  2.39it/s]\n"
     ]
    },
    {
     "name": "stdout",
     "output_type": "stream",
     "text": [
      "Global_cosine value:  False\n",
      "Local_grad_cosine:  True\n"
     ]
    },
    {
     "name": "stderr",
     "output_type": "stream",
     "text": [
      "100%|████████████████████████████████████████████████████████████████████████████████| 110/110 [00:45<00:00,  2.42it/s]\n"
     ]
    },
    {
     "name": "stdout",
     "output_type": "stream",
     "text": [
      "Global_cosine value:  False\n",
      "Local_grad_cosine:  True\n"
     ]
    },
    {
     "name": "stderr",
     "output_type": "stream",
     "text": [
      "100%|████████████████████████████████████████████████████████████████████████████████| 110/110 [00:48<00:00,  2.28it/s]\n"
     ]
    },
    {
     "name": "stdout",
     "output_type": "stream",
     "text": [
      "outputs/phase3_iid_flip_5_30\n",
      "   0_0_cosine  0_1_cosine  0_2_cosine  0_3_cosine  0_4_cosine  0_5_cosine  \\\n",
      "0         1.0    0.226509    0.262317    0.190609    0.337725    0.189593   \n",
      "1         1.0    0.269932    0.435583    0.299137    0.433722    0.117971   \n",
      "2         1.0    0.597680    0.261015    0.418085    0.391050    0.043175   \n",
      "3         1.0    0.056010    0.244148    0.373372    0.099846   -0.019839   \n",
      "4         1.0   -0.011732    0.240552    0.137250    0.034318    0.069624   \n",
      "5         1.0   -0.005387   -0.032791    0.127592    0.013428   -0.096418   \n",
      "6         1.0   -0.000334    0.025463   -0.025171    0.016480   -0.021514   \n",
      "7         1.0    0.021761   -0.048943    0.061364   -0.091413   -0.055303   \n",
      "8         1.0   -0.078983   -0.010816   -0.042094   -0.083601   -0.073592   \n",
      "9         1.0   -0.065384    0.008529   -0.091893    0.040480   -0.072634   \n",
      "\n",
      "   0_6_cosine  0_7_cosine  0_8_cosine  0_9_cosine  ...  0_101_cosine  \\\n",
      "0    0.189522    0.156659    0.110460    0.244608  ...      0.610942   \n",
      "1    0.190796    0.150626    0.357027    0.367235  ...      0.753167   \n",
      "2    0.301931    0.494454    0.568935    0.292722  ...      0.840314   \n",
      "3    0.144479    0.159212    0.349751    0.252335  ...      0.747046   \n",
      "4    0.146565    0.022919   -0.075020    0.195120  ...      0.670416   \n",
      "5    0.040674    0.046442    0.099567    0.036278  ...      0.577829   \n",
      "6   -0.032028    0.031807    0.018569    0.125103  ...      0.438762   \n",
      "7    0.077875    0.056022   -0.108079    0.040655  ...      0.402265   \n",
      "8    0.011609   -0.094733   -0.025052   -0.085240  ...      0.344136   \n",
      "9    0.011149    0.003017   -0.011967   -0.032666  ...      0.302098   \n",
      "\n",
      "   0_102_cosine  0_103_cosine  0_104_cosine  0_105_cosine  0_106_cosine  \\\n",
      "0      0.567226      0.578843      0.571158      0.594420      0.569073   \n",
      "1      0.786893      0.756875      0.810472      0.744995      0.780620   \n",
      "2      0.809480      0.858386      0.832539      0.807729      0.824199   \n",
      "3      0.767180      0.779585      0.752823      0.775261      0.775719   \n",
      "4      0.663599      0.687055      0.677200      0.721675      0.717822   \n",
      "5      0.607865      0.623773      0.594724      0.624356      0.630578   \n",
      "6      0.493919      0.425255      0.482822      0.515161      0.452284   \n",
      "7      0.382715      0.430517      0.407920      0.409468      0.428698   \n",
      "8      0.378704      0.400046      0.431693      0.421694      0.421260   \n",
      "9      0.291857      0.369244      0.340625      0.417762      0.388437   \n",
      "\n",
      "   0_107_cosine  0_108_cosine  0_109_cosine  test_accuracy  \n",
      "0      0.570300      0.572735      0.600392         0.2244  \n",
      "1      0.806165      0.754518      0.777146         0.4571  \n",
      "2      0.842541      0.814578      0.835160         0.6521  \n",
      "3      0.766944      0.785485      0.781033         0.7670  \n",
      "4      0.731618      0.707053      0.684396         0.7810  \n",
      "5      0.621090      0.632281      0.676434         0.8360  \n",
      "6      0.476794      0.476066      0.492278         0.8502  \n",
      "7      0.364271      0.426911      0.454664         0.8658  \n",
      "8      0.318476      0.401456      0.405958         0.8784  \n",
      "9      0.284842      0.377418      0.352741         0.8941  \n",
      "\n",
      "[10 rows x 111 columns]\n",
      "mt is: {'wrong_dataset': True}\n",
      "Len of train_dataset_classes:  111\n",
      "train_dataset_classes:  Counter({1: 70, 8: 68, 9: 65, 4: 61, 3: 55, 0: 53, 6: 49, 2: 45, 7: 42, 5: 37})\n",
      "Keys of trusted_devices_classes: dict_keys([4, 8, 5, 2, 1, 0, 3, 7, 6, 9])\n",
      "==============To find the malicious devices=============\n",
      "Trusted devices:  1\n",
      "Malicious devices:  30\n",
      "Range:  range(1, 30)\n",
      "malicious_devices: [1, 2, 3, 4, 5, 6, 7, 8, 9, 10, 11, 12, 13, 14, 15, 16, 17, 18, 19, 20, 21, 22, 23, 24, 25, 26, 27, 28, 29]\n",
      "Downloading https://www.cs.toronto.edu/~kriz/cifar-10-python.tar.gz to ./dataset/cifar-10-python.tar.gz\n"
     ]
    },
    {
     "data": {
      "application/vnd.jupyter.widget-view+json": {
       "model_id": "b8f4718dc3804f5b98bc470f5f8e139b",
       "version_major": 2,
       "version_minor": 0
      },
      "text/plain": [
       "  0%|          | 0/170498071 [00:00<?, ?it/s]"
      ]
     },
     "metadata": {},
     "output_type": "display_data"
    },
    {
     "name": "stdout",
     "output_type": "stream",
     "text": [
      "Extracting ./dataset/cifar-10-python.tar.gz to ./dataset/\n",
      "Files already downloaded and verified\n",
      "Global_cosine value:  False\n",
      "Local_grad_cosine:  True\n"
     ]
    },
    {
     "name": "stderr",
     "output_type": "stream",
     "text": [
      "100%|████████████████████████████████████████████████████████████████████████████████| 110/110 [00:40<00:00,  2.73it/s]\n"
     ]
    },
    {
     "name": "stdout",
     "output_type": "stream",
     "text": [
      "Global_cosine value:  False\n",
      "Local_grad_cosine:  True\n"
     ]
    },
    {
     "name": "stderr",
     "output_type": "stream",
     "text": [
      "100%|████████████████████████████████████████████████████████████████████████████████| 110/110 [00:40<00:00,  2.74it/s]\n"
     ]
    },
    {
     "name": "stdout",
     "output_type": "stream",
     "text": [
      "Global_cosine value:  False\n",
      "Local_grad_cosine:  True\n"
     ]
    },
    {
     "name": "stderr",
     "output_type": "stream",
     "text": [
      "100%|████████████████████████████████████████████████████████████████████████████████| 110/110 [00:57<00:00,  1.91it/s]\n"
     ]
    },
    {
     "name": "stdout",
     "output_type": "stream",
     "text": [
      "Global_cosine value:  False\n",
      "Local_grad_cosine:  True\n"
     ]
    },
    {
     "name": "stderr",
     "output_type": "stream",
     "text": [
      "100%|████████████████████████████████████████████████████████████████████████████████| 110/110 [00:55<00:00,  1.97it/s]\n"
     ]
    },
    {
     "name": "stdout",
     "output_type": "stream",
     "text": [
      "Global_cosine value:  False\n",
      "Local_grad_cosine:  True\n"
     ]
    },
    {
     "name": "stderr",
     "output_type": "stream",
     "text": [
      "100%|████████████████████████████████████████████████████████████████████████████████| 110/110 [00:50<00:00,  2.19it/s]\n"
     ]
    },
    {
     "name": "stdout",
     "output_type": "stream",
     "text": [
      "Global_cosine value:  False\n",
      "Local_grad_cosine:  True\n"
     ]
    },
    {
     "name": "stderr",
     "output_type": "stream",
     "text": [
      "100%|████████████████████████████████████████████████████████████████████████████████| 110/110 [00:52<00:00,  2.09it/s]\n"
     ]
    },
    {
     "name": "stdout",
     "output_type": "stream",
     "text": [
      "Global_cosine value:  False\n",
      "Local_grad_cosine:  True\n"
     ]
    },
    {
     "name": "stderr",
     "output_type": "stream",
     "text": [
      "100%|████████████████████████████████████████████████████████████████████████████████| 110/110 [00:55<00:00,  2.00it/s]\n"
     ]
    },
    {
     "name": "stdout",
     "output_type": "stream",
     "text": [
      "Global_cosine value:  False\n",
      "Local_grad_cosine:  True\n"
     ]
    },
    {
     "name": "stderr",
     "output_type": "stream",
     "text": [
      "100%|████████████████████████████████████████████████████████████████████████████████| 110/110 [00:55<00:00,  1.98it/s]\n"
     ]
    },
    {
     "name": "stdout",
     "output_type": "stream",
     "text": [
      "Global_cosine value:  False\n",
      "Local_grad_cosine:  True\n"
     ]
    },
    {
     "name": "stderr",
     "output_type": "stream",
     "text": [
      "100%|████████████████████████████████████████████████████████████████████████████████| 110/110 [00:54<00:00,  2.00it/s]\n"
     ]
    },
    {
     "name": "stdout",
     "output_type": "stream",
     "text": [
      "Global_cosine value:  False\n",
      "Local_grad_cosine:  True\n"
     ]
    },
    {
     "name": "stderr",
     "output_type": "stream",
     "text": [
      "100%|████████████████████████████████████████████████████████████████████████████████| 110/110 [00:50<00:00,  2.17it/s]\n"
     ]
    },
    {
     "name": "stdout",
     "output_type": "stream",
     "text": [
      "outputs/phase3_iid_wrong_dataset_True_30\n",
      "   0_0_cosine  0_1_cosine  0_2_cosine  0_3_cosine  0_4_cosine  0_5_cosine  \\\n",
      "0         1.0    0.032490    0.037340    0.012455    0.014509   -0.011905   \n",
      "1         1.0    0.119292    0.076328    0.096700    0.124267    0.108093   \n",
      "2         1.0    0.039810    0.126628   -0.014474   -0.005125    0.013096   \n",
      "3         1.0   -0.121461   -0.140788   -0.101018   -0.144677   -0.122195   \n",
      "4         1.0   -0.296781   -0.347942   -0.365701   -0.318622   -0.349662   \n",
      "5         1.0   -0.362984   -0.376594   -0.390933   -0.375766   -0.347911   \n",
      "6         1.0   -0.329019   -0.383668   -0.320614   -0.332756   -0.365760   \n",
      "7         1.0   -0.399640   -0.363518   -0.347428   -0.386304   -0.367195   \n",
      "8         1.0   -0.330288   -0.333087   -0.376219   -0.328566   -0.333347   \n",
      "9         1.0   -0.300797   -0.302507   -0.307326   -0.325387   -0.368114   \n",
      "\n",
      "   0_6_cosine  0_7_cosine  0_8_cosine  0_9_cosine  ...  0_101_cosine  \\\n",
      "0   -0.041764    0.010192    0.016938   -0.015485  ...      0.585765   \n",
      "1    0.155954    0.110239    0.142228    0.140911  ...      0.830825   \n",
      "2    0.050347   -0.020304    0.014691    0.018949  ...      0.836085   \n",
      "3   -0.131652   -0.190728   -0.165294   -0.135988  ...      0.813480   \n",
      "4   -0.315063   -0.349390   -0.311708   -0.338478  ...      0.775501   \n",
      "5   -0.313606   -0.357882   -0.358336   -0.331863  ...      0.681658   \n",
      "6   -0.372358   -0.387218   -0.365714   -0.356180  ...      0.530291   \n",
      "7   -0.372644   -0.358541   -0.338393   -0.352424  ...      0.533557   \n",
      "8   -0.337061   -0.328237   -0.364870   -0.299930  ...      0.489776   \n",
      "9   -0.337812   -0.350749   -0.316250   -0.336200  ...      0.480679   \n",
      "\n",
      "   0_102_cosine  0_103_cosine  0_104_cosine  0_105_cosine  0_106_cosine  \\\n",
      "0      0.580042      0.560474      0.593489      0.598653      0.577563   \n",
      "1      0.827012      0.754988      0.820807      0.815199      0.805891   \n",
      "2      0.856444      0.850391      0.835370      0.860528      0.864810   \n",
      "3      0.840070      0.818016      0.803831      0.821096      0.834953   \n",
      "4      0.766858      0.782988      0.810202      0.793495      0.778463   \n",
      "5      0.667787      0.694291      0.668152      0.676468      0.655166   \n",
      "6      0.563148      0.598763      0.632234      0.630468      0.605284   \n",
      "7      0.565403      0.554816      0.522081      0.533449      0.541487   \n",
      "8      0.434147      0.502421      0.482016      0.492073      0.482438   \n",
      "9      0.411018      0.438596      0.438192      0.476533      0.452678   \n",
      "\n",
      "   0_107_cosine  0_108_cosine  0_109_cosine  test_accuracy  \n",
      "0      0.586737      0.596847      0.602766         0.1836  \n",
      "1      0.781244      0.782215      0.824179         0.4681  \n",
      "2      0.874238      0.823025      0.856181         0.6033  \n",
      "3      0.824212      0.841210      0.849294         0.7148  \n",
      "4      0.787533      0.772614      0.782971         0.7770  \n",
      "5      0.684523      0.645004      0.676154         0.8066  \n",
      "6      0.620141      0.625053      0.618165         0.8231  \n",
      "7      0.587388      0.528043      0.593938         0.8335  \n",
      "8      0.532804      0.485234      0.510205         0.8513  \n",
      "9      0.445348      0.455387      0.445456         0.8622  \n",
      "\n",
      "[10 rows x 111 columns]\n",
      "mt is: {'lr': 0.5}\n",
      "Len of train_dataset_classes:  111\n",
      "train_dataset_classes:  Counter({3: 73, 9: 65, 6: 59, 4: 56, 7: 55, 2: 54, 0: 51, 1: 49, 5: 42, 8: 41})\n",
      "Keys of trusted_devices_classes: dict_keys([0, 2, 1, 9, 3, 4, 5, 6, 8, 7])\n",
      "==============To find the malicious devices=============\n",
      "Trusted devices:  1\n",
      "Malicious devices:  30\n",
      "Range:  range(1, 30)\n",
      "malicious_devices: [1, 2, 3, 4, 5, 6, 7, 8, 9, 10, 11, 12, 13, 14, 15, 16, 17, 18, 19, 20, 21, 22, 23, 24, 25, 26, 27, 28, 29]\n",
      "Global_cosine value:  False\n",
      "Local_grad_cosine:  True\n"
     ]
    },
    {
     "name": "stderr",
     "output_type": "stream",
     "text": [
      "100%|████████████████████████████████████████████████████████████████████████████████| 110/110 [01:06<00:00,  1.64it/s]\n"
     ]
    },
    {
     "name": "stdout",
     "output_type": "stream",
     "text": [
      "Global_cosine value:  False\n",
      "Local_grad_cosine:  True\n"
     ]
    },
    {
     "name": "stderr",
     "output_type": "stream",
     "text": [
      "100%|████████████████████████████████████████████████████████████████████████████████| 110/110 [00:49<00:00,  2.21it/s]\n"
     ]
    },
    {
     "name": "stdout",
     "output_type": "stream",
     "text": [
      "Global_cosine value:  False\n",
      "Local_grad_cosine:  True\n"
     ]
    },
    {
     "name": "stderr",
     "output_type": "stream",
     "text": [
      "100%|████████████████████████████████████████████████████████████████████████████████| 110/110 [00:47<00:00,  2.32it/s]\n"
     ]
    },
    {
     "name": "stdout",
     "output_type": "stream",
     "text": [
      "Global_cosine value:  False\n",
      "Local_grad_cosine:  True\n"
     ]
    },
    {
     "name": "stderr",
     "output_type": "stream",
     "text": [
      "100%|████████████████████████████████████████████████████████████████████████████████| 110/110 [00:45<00:00,  2.41it/s]\n"
     ]
    },
    {
     "name": "stdout",
     "output_type": "stream",
     "text": [
      "Global_cosine value:  False\n",
      "Local_grad_cosine:  True\n"
     ]
    },
    {
     "name": "stderr",
     "output_type": "stream",
     "text": [
      "100%|████████████████████████████████████████████████████████████████████████████████| 110/110 [00:36<00:00,  3.01it/s]\n"
     ]
    },
    {
     "name": "stdout",
     "output_type": "stream",
     "text": [
      "Global_cosine value:  False\n",
      "Local_grad_cosine:  True\n"
     ]
    },
    {
     "name": "stderr",
     "output_type": "stream",
     "text": [
      "100%|████████████████████████████████████████████████████████████████████████████████| 110/110 [00:35<00:00,  3.06it/s]\n"
     ]
    },
    {
     "name": "stdout",
     "output_type": "stream",
     "text": [
      "Global_cosine value:  False\n",
      "Local_grad_cosine:  True\n"
     ]
    },
    {
     "name": "stderr",
     "output_type": "stream",
     "text": [
      "100%|████████████████████████████████████████████████████████████████████████████████| 110/110 [00:36<00:00,  3.05it/s]\n"
     ]
    },
    {
     "name": "stdout",
     "output_type": "stream",
     "text": [
      "Global_cosine value:  False\n",
      "Local_grad_cosine:  True\n"
     ]
    },
    {
     "name": "stderr",
     "output_type": "stream",
     "text": [
      "100%|████████████████████████████████████████████████████████████████████████████████| 110/110 [00:36<00:00,  3.04it/s]\n"
     ]
    },
    {
     "name": "stdout",
     "output_type": "stream",
     "text": [
      "Global_cosine value:  False\n",
      "Local_grad_cosine:  True\n"
     ]
    },
    {
     "name": "stderr",
     "output_type": "stream",
     "text": [
      "100%|████████████████████████████████████████████████████████████████████████████████| 110/110 [00:35<00:00,  3.06it/s]\n"
     ]
    },
    {
     "name": "stdout",
     "output_type": "stream",
     "text": [
      "Global_cosine value:  False\n",
      "Local_grad_cosine:  True\n"
     ]
    },
    {
     "name": "stderr",
     "output_type": "stream",
     "text": [
      "100%|████████████████████████████████████████████████████████████████████████████████| 110/110 [00:38<00:00,  2.86it/s]\n"
     ]
    },
    {
     "name": "stdout",
     "output_type": "stream",
     "text": [
      "outputs/phase3_iid_lr_0.5_30\n",
      "   0_0_cosine  0_1_cosine  0_2_cosine  0_3_cosine  0_4_cosine  0_5_cosine  \\\n",
      "0         1.0    0.148275    0.100510    0.139667    0.176385    0.080631   \n",
      "1         1.0    0.215204    0.539804    0.613509    0.398158    0.104281   \n",
      "2         1.0    0.580641   -0.299107   -0.040388    0.104241   -0.445108   \n",
      "3         1.0   -0.177111   -0.205898    0.157928    0.088424   -0.065828   \n",
      "4         1.0   -0.555593   -0.151513    0.365819   -0.334479   -0.331075   \n",
      "5         1.0   -0.287091   -0.384955    0.187827   -0.105091    0.461706   \n",
      "6         1.0    0.272619   -0.219396   -0.353988   -0.408247   -0.020590   \n",
      "7         1.0    0.055823    0.272105   -0.312656   -0.107966    0.305022   \n",
      "8         1.0   -0.210408   -0.005879    0.077604   -0.462296   -0.104831   \n",
      "9         1.0    0.177075   -0.148361    0.208279   -0.624803    0.037153   \n",
      "\n",
      "   0_6_cosine  0_7_cosine  0_8_cosine  0_9_cosine  ...  0_101_cosine  \\\n",
      "0    0.112970    0.116196    0.166021    0.145803  ...      0.388681   \n",
      "1   -0.299080    0.471195   -0.162699   -0.205993  ...      0.295822   \n",
      "2    0.190102   -0.276588    0.412622    0.532441  ...      0.059467   \n",
      "3   -0.145642   -0.081029    0.375478   -0.021221  ...      0.063239   \n",
      "4   -0.149425   -0.116772    0.196121    0.137038  ...     -0.237314   \n",
      "5    0.219758   -0.568690    0.087677    0.347578  ...      0.037473   \n",
      "6   -0.309572   -0.728060   -0.191137   -0.102282  ...      0.323180   \n",
      "7   -0.248068   -0.323334   -0.470853   -0.558950  ...     -0.103938   \n",
      "8    0.076767    0.146273   -0.132720   -0.238914  ...      0.411694   \n",
      "9   -0.108135    0.396342   -0.021347    0.256373  ...      0.411900   \n",
      "\n",
      "   0_102_cosine  0_103_cosine  0_104_cosine  0_105_cosine  0_106_cosine  \\\n",
      "0      0.398884      0.314940      0.529555      0.370661      0.374166   \n",
      "1      0.085273      0.003843      0.645138      0.534157      0.065990   \n",
      "2      0.221235      0.054654      0.816458      0.572812      0.377281   \n",
      "3     -0.756523     -0.368161      0.493574      0.023149     -0.191895   \n",
      "4     -0.162046     -0.330570      0.431482      0.147284     -0.108443   \n",
      "5     -0.372074     -0.368590      0.629290     -0.450839     -0.269909   \n",
      "6     -0.223234     -0.210777      0.514788     -0.055695     -0.259543   \n",
      "7     -0.323124     -0.271677      0.428514      0.434097     -0.519185   \n",
      "8     -0.500088     -0.247695      0.022767      0.511472     -0.430655   \n",
      "9     -0.123447     -0.365368      0.350491      0.461222      0.179191   \n",
      "\n",
      "   0_107_cosine  0_108_cosine  0_109_cosine  test_accuracy  \n",
      "0      0.433995      0.414436      0.397105         0.1010  \n",
      "1      0.406834      0.217777      0.546135         0.1010  \n",
      "2      0.451309      0.015611      0.070469         0.1010  \n",
      "3      0.114944     -0.353347     -0.302425         0.1028  \n",
      "4      0.076251     -0.305606     -0.294737         0.1028  \n",
      "5      0.100877     -0.145780      0.039385         0.1028  \n",
      "6     -0.158226     -0.094001      0.153638         0.1028  \n",
      "7     -0.125238     -0.367980     -0.301520         0.1028  \n",
      "8     -0.256956     -0.397056      0.189001         0.1135  \n",
      "9     -0.373173     -0.060550      0.123621         0.1135  \n",
      "\n",
      "[10 rows x 111 columns]\n",
      "mt is: {'lr': 1e-05}\n",
      "Len of train_dataset_classes:  111\n",
      "train_dataset_classes:  Counter({1: 79, 3: 59, 0: 59, 8: 57, 7: 56, 9: 55, 6: 51, 5: 47, 4: 42, 2: 40})\n",
      "Keys of trusted_devices_classes: dict_keys([4, 1, 8, 7, 9, 2, 3, 5, 6, 0])\n",
      "==============To find the malicious devices=============\n",
      "Trusted devices:  1\n",
      "Malicious devices:  30\n",
      "Range:  range(1, 30)\n",
      "malicious_devices: [1, 2, 3, 4, 5, 6, 7, 8, 9, 10, 11, 12, 13, 14, 15, 16, 17, 18, 19, 20, 21, 22, 23, 24, 25, 26, 27, 28, 29]\n",
      "Global_cosine value:  False\n",
      "Local_grad_cosine:  True\n"
     ]
    },
    {
     "name": "stderr",
     "output_type": "stream",
     "text": [
      "100%|████████████████████████████████████████████████████████████████████████████████| 110/110 [00:36<00:00,  3.01it/s]\n"
     ]
    },
    {
     "name": "stdout",
     "output_type": "stream",
     "text": [
      "Global_cosine value:  False\n",
      "Local_grad_cosine:  True\n"
     ]
    },
    {
     "name": "stderr",
     "output_type": "stream",
     "text": [
      "100%|████████████████████████████████████████████████████████████████████████████████| 110/110 [00:36<00:00,  2.99it/s]\n"
     ]
    },
    {
     "name": "stdout",
     "output_type": "stream",
     "text": [
      "Global_cosine value:  False\n",
      "Local_grad_cosine:  True\n"
     ]
    },
    {
     "name": "stderr",
     "output_type": "stream",
     "text": [
      "100%|████████████████████████████████████████████████████████████████████████████████| 110/110 [00:36<00:00,  3.00it/s]\n"
     ]
    },
    {
     "name": "stdout",
     "output_type": "stream",
     "text": [
      "Global_cosine value:  False\n",
      "Local_grad_cosine:  True\n"
     ]
    },
    {
     "name": "stderr",
     "output_type": "stream",
     "text": [
      "100%|████████████████████████████████████████████████████████████████████████████████| 110/110 [00:38<00:00,  2.82it/s]\n"
     ]
    },
    {
     "name": "stdout",
     "output_type": "stream",
     "text": [
      "Global_cosine value:  False\n",
      "Local_grad_cosine:  True\n"
     ]
    },
    {
     "name": "stderr",
     "output_type": "stream",
     "text": [
      "100%|████████████████████████████████████████████████████████████████████████████████| 110/110 [00:36<00:00,  2.99it/s]\n"
     ]
    },
    {
     "name": "stdout",
     "output_type": "stream",
     "text": [
      "Global_cosine value:  False\n",
      "Local_grad_cosine:  True\n"
     ]
    },
    {
     "name": "stderr",
     "output_type": "stream",
     "text": [
      "100%|████████████████████████████████████████████████████████████████████████████████| 110/110 [00:37<00:00,  2.96it/s]\n"
     ]
    },
    {
     "name": "stdout",
     "output_type": "stream",
     "text": [
      "Global_cosine value:  False\n",
      "Local_grad_cosine:  True\n"
     ]
    },
    {
     "name": "stderr",
     "output_type": "stream",
     "text": [
      "100%|████████████████████████████████████████████████████████████████████████████████| 110/110 [00:39<00:00,  2.80it/s]\n"
     ]
    },
    {
     "name": "stdout",
     "output_type": "stream",
     "text": [
      "Global_cosine value:  False\n",
      "Local_grad_cosine:  True\n"
     ]
    },
    {
     "name": "stderr",
     "output_type": "stream",
     "text": [
      "100%|████████████████████████████████████████████████████████████████████████████████| 110/110 [00:38<00:00,  2.86it/s]\n"
     ]
    },
    {
     "name": "stdout",
     "output_type": "stream",
     "text": [
      "Global_cosine value:  False\n",
      "Local_grad_cosine:  True\n"
     ]
    },
    {
     "name": "stderr",
     "output_type": "stream",
     "text": [
      "100%|████████████████████████████████████████████████████████████████████████████████| 110/110 [00:36<00:00,  3.00it/s]\n"
     ]
    },
    {
     "name": "stdout",
     "output_type": "stream",
     "text": [
      "Global_cosine value:  False\n",
      "Local_grad_cosine:  True\n"
     ]
    },
    {
     "name": "stderr",
     "output_type": "stream",
     "text": [
      "100%|████████████████████████████████████████████████████████████████████████████████| 110/110 [00:39<00:00,  2.79it/s]\n"
     ]
    },
    {
     "name": "stdout",
     "output_type": "stream",
     "text": [
      "outputs/phase3_iid_lr_1e-05_30\n",
      "   0_0_cosine  0_1_cosine  0_2_cosine  0_3_cosine  0_4_cosine  0_5_cosine  \\\n",
      "0         1.0    0.468955    0.519779    0.476983    0.486131    0.507335   \n",
      "1         1.0    0.622205    0.630385    0.627970    0.682014    0.631053   \n",
      "2         1.0    0.669370    0.732052    0.723167    0.712172    0.714407   \n",
      "3         1.0    0.738237    0.801488    0.712312    0.684231    0.747006   \n",
      "4         1.0    0.625589    0.662207    0.627403    0.622277    0.567088   \n",
      "5         1.0    0.418316    0.583814    0.576207    0.593947    0.464007   \n",
      "6         1.0    0.413186    0.555529    0.488089    0.468426    0.491023   \n",
      "7         1.0    0.299623    0.423500    0.336582    0.404337    0.189919   \n",
      "8         1.0    0.180674    0.280705    0.274692    0.249730    0.184118   \n",
      "9         1.0    0.068679    0.193402    0.196197    0.110309    0.113887   \n",
      "\n",
      "   0_6_cosine  0_7_cosine  0_8_cosine  0_9_cosine  ...  0_101_cosine  \\\n",
      "0    0.516138    0.493383    0.408657    0.525882  ...      0.436685   \n",
      "1    0.635467    0.597279    0.639268    0.638603  ...      0.791131   \n",
      "2    0.740541    0.728576    0.716252    0.726464  ...      0.850690   \n",
      "3    0.745846    0.752265    0.718894    0.777222  ...      0.796425   \n",
      "4    0.643573    0.627796    0.704119    0.629060  ...      0.742484   \n",
      "5    0.501144    0.466436    0.589878    0.470978  ...      0.642541   \n",
      "6    0.476269    0.419309    0.559399    0.360193  ...      0.517738   \n",
      "7    0.267104    0.286244    0.323841    0.359657  ...      0.437793   \n",
      "8    0.162526    0.055817    0.286737    0.174278  ...      0.281361   \n",
      "9    0.134917    0.105704    0.173013    0.127795  ...      0.279301   \n",
      "\n",
      "   0_102_cosine  0_103_cosine  0_104_cosine  0_105_cosine  0_106_cosine  \\\n",
      "0      0.397044      0.475774      0.527042      0.492615      0.498606   \n",
      "1      0.755278      0.745606      0.758333      0.730277      0.679583   \n",
      "2      0.795440      0.834456      0.853407      0.830669      0.821524   \n",
      "3      0.805523      0.777885      0.826806      0.803955      0.800091   \n",
      "4      0.723660      0.718700      0.760206      0.745035      0.723340   \n",
      "5      0.664933      0.666651      0.658588      0.626457      0.659771   \n",
      "6      0.497708      0.568616      0.620315      0.599666      0.523913   \n",
      "7      0.479097      0.506234      0.394145      0.482749      0.459592   \n",
      "8      0.364772      0.419677      0.421379      0.367703      0.356685   \n",
      "9      0.224174      0.213275      0.304305      0.287149      0.213822   \n",
      "\n",
      "   0_107_cosine  0_108_cosine  0_109_cosine  test_accuracy  \n",
      "0      0.581484      0.408618      0.542292         0.2418  \n",
      "1      0.683659      0.672592      0.738559         0.4886  \n",
      "2      0.836634      0.835025      0.841246         0.5786  \n",
      "3      0.830237      0.795055      0.792477         0.6925  \n",
      "4      0.735075      0.711743      0.736769         0.7711  \n",
      "5      0.635461      0.618779      0.671609         0.8127  \n",
      "6      0.509053      0.517472      0.551200         0.8350  \n",
      "7      0.454930      0.402303      0.416916         0.8565  \n",
      "8      0.402362      0.231322      0.456239         0.8712  \n",
      "9      0.288199      0.217524      0.251392         0.8816  \n",
      "\n",
      "[10 rows x 111 columns]\n"
     ]
    },
    {
     "data": {
      "image/png": "[encoded data removed]",
      "text/plain": [
       "<Figure size 432x288 with 2 Axes>"
      ]
     },
     "metadata": {
      "needs_background": "light"
     },
     "output_type": "display_data"
    }
   ],
   "source": [
    "device = torch.device(\"cuda\" if torch.cuda.is_available() else \"cpu\")\n",
    "niids = [20, 40, 60, 80]\n",
    "malicious_types = [{'flip': 5}, {'wrong_dataset': True}, {'lr':0.5}, {'lr':0.00001}]\n",
    "experiment(device, niids, malicious_types, phase3)"
   ]
  },
  {
   "cell_type": "code",
   "execution_count": null,
   "id": "3f05dc12",
   "metadata": {},
   "outputs": [],
   "source": []
  }
 ],
 "metadata": {
  "kernelspec": {
   "display_name": "Python 3 (ipykernel)",
   "language": "python",
   "name": "python3"
  },
  "language_info": {
   "codemirror_mode": {
    "name": "ipython",
    "version": 3
   },
   "file_extension": ".py",
   "mimetype": "text/x-python",
   "name": "python",
   "nbconvert_exporter": "python",
   "pygments_lexer": "ipython3",
   "version": "3.9.6"
  }
 },
 "nbformat": 4,
 "nbformat_minor": 5
}
